{
 "cells": [
  {
   "cell_type": "markdown",
   "metadata": {},
   "source": [
    "# Guide to facts.py module"
   ]
  },
  {
   "cell_type": "code",
   "execution_count": 5,
   "metadata": {},
   "outputs": [
    {
     "data": {
      "text/plain": [
       "'> There are 336 dimples on a regulation golf ball.\\n\\nSource: [djtech.net](http://www.djtech.net/humor/useless_facts.htm)'"
      ]
     },
     "execution_count": 5,
     "metadata": {},
     "output_type": "execute_result"
    }
   ],
   "source": [
    "from randomly import facts\n",
    "\n",
    "facts.generate_random_fact(\"txt\", \"en\")"
   ]
  }
 ],
 "metadata": {
  "interpreter": {
   "hash": "d5f3c9f1bf507c7fa86481f1c70a064910f877f5346f935432b525c9b5e5667a"
  },
  "kernelspec": {
   "display_name": "Python 3.9.0 ('venv': venv)",
   "language": "python",
   "name": "python3"
  },
  "language_info": {
   "codemirror_mode": {
    "name": "ipython",
    "version": 3
   },
   "file_extension": ".py",
   "mimetype": "text/x-python",
   "name": "python",
   "nbconvert_exporter": "python",
   "pygments_lexer": "ipython3",
   "version": "3.9.0"
  },
  "orig_nbformat": 4
 },
 "nbformat": 4,
 "nbformat_minor": 2
}
